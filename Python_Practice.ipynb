{
  "cells": [
    {
      "cell_type": "code",
      "execution_count": 378,
      "metadata": {
        "id": "OBF0Quv3mbGO"
      },
      "outputs": [],
      "source": [
        "# Price Data\n",
        "\n",
        "item_dict = {'almonds': 6,\n",
        " 'antioxidant juice': 9,\n",
        " 'avocado': 1,\n",
        " 'black tea': 4,\n",
        " 'burgers': 4,\n",
        " 'champagne': 3,\n",
        " 'chicken': 4,\n",
        " 'chocolate': 7,\n",
        " 'chutney': 7,\n",
        " 'cookies': 7,\n",
        " 'cooking oil': 7,\n",
        " 'cottage cheese': 9,\n",
        " 'eggs': 9,\n",
        " 'energy bar': 9,\n",
        " 'energy drink': 3,\n",
        " 'extra dark chocolate': 8,\n",
        " 'french fries': 7,\n",
        " 'fresh tuna': 9,\n",
        " 'frozen smoothie': 7,\n",
        " 'frozen vegetables': 2,\n",
        " 'green grapes': 8,\n",
        " 'green tea': 8,\n",
        " 'honey': 9,\n",
        " 'light cream': 5,\n",
        " 'low fat yogurt': 4,\n",
        " 'meatballs': 9,\n",
        " 'milk': 5,\n",
        " 'mineral water': 2,\n",
        " 'oil': 9,\n",
        " 'olive oil': 8,\n",
        " 'pet food': 3,\n",
        " 'protein bar': 1,\n",
        " 'salad': 7,\n",
        " 'salmon': 3,\n",
        " 'shallot': 6,\n",
        " 'shrimp': 2,\n",
        " 'soup': 2,\n",
        " 'spaghetti': 6,\n",
        " 'spinach': 7,\n",
        " 'tomato juice': 8,\n",
        " 'tomatoes': 5,\n",
        " 'turkey': 8,\n",
        " 'vegetables mix': 3,\n",
        " 'whole wheat flour': 5,\n",
        " 'whole wheat pasta': 5,\n",
        " 'whole wheat rice': 4,\n",
        " 'yams': 7}"
      ]
    },
    {
      "cell_type": "code",
      "execution_count": 379,
      "metadata": {
        "id": "_uutgZt4mcgz"
      },
      "outputs": [],
      "source": [
        "# transaction data\n",
        "\n",
        "transaction_data = \\\n",
        "[['shrimp', 'almonds', 'avocado', 'vegetables mix', 'green grapes', 'whole wheat flour', 'yams', 'cottage cheese', 'energy drink', 'tomato juice', 'low fat yogurt', 'green tea', 'honey', 'salad', 'mineral water', 'salmon', 'antioxidant juice', 'frozen smoothie', 'spinach', 'olive oil'],\n",
        "['burgers', 'meatballs', 'eggs'],\n",
        "['chutney'],\n",
        "['turkey', 'avocado'],\n",
        "['mineral water', 'milk', 'energy bar', 'whole wheat rice', 'green tea'],\n",
        "['low fat yogurt'],\n",
        "['whole wheat pasta', 'french fries'],\n",
        "['soup', 'light cream', 'shallot'],\n",
        "['frozen vegetables', 'spaghetti', 'green tea'],\n",
        "['french fries'],\n",
        "['eggs', 'pet food'],\n",
        "['cookies'],\n",
        "['turkey', 'burgers', 'mineral water', 'eggs', 'cooking oil'],\n",
        "['spaghetti', 'champagne', 'cookies'],\n",
        "['mineral water', 'salmon'],\n",
        "['mineral water'],\n",
        "['shrimp', 'chocolate', 'chicken', 'honey', 'oil', 'cooking oil', 'low fat yogurt'],\n",
        "['turkey', 'eggs'],\n",
        "['turkey', 'fresh tuna', 'tomatoes', 'spaghetti', 'mineral water', 'black tea', 'salmon', 'eggs', 'chicken', 'extra dark chocolate'],\n",
        "['meatballs', 'milk', 'honey', 'french fries', 'protein bar']]"
      ]
    },
    {
      "cell_type": "markdown",
      "metadata": {
        "id": "N5TVAQJxlymU"
      },
      "source": [
        "## **Question 1**\n",
        "Q1. Based on customer demand, items keep changing in the store. Your first task is to create a function that lets the admin add or remove items from the store directory(Cost dictionary).\n",
        "\n",
        "The code should help admin to accomplish the following tasks:\n",
        "Find how many unique items are present in the data?  (Hint: It will correspond to the number of key pairs in the Cost dictionary)\n",
        "Find the total number of transactions?\n",
        "Add items, try adding the item “banana” in stores. The cost of this item is $5. Add the item “banana” to the Cost dictionary. \n",
        "Use a function named add_item( ) to automatically add an item to the Cost dictionary given its name and price.\n",
        "Remove an item: for example: if the customers at Walmart do not seem to be purchasing “banana,” and the store decides to discontinue this item. The function to should be able to remove the item “banana” from the Cost dictionary\n",
        "Create a function called remove_item( ) to automatically remove an item from the Cost dictionary given its name."
      ]
    },
    {
      "cell_type": "markdown",
      "source": [
        "## **Solutions**"
      ],
      "metadata": {
        "id": "E3y2lg4CIqkX"
      }
    },
    {
      "cell_type": "code",
      "execution_count": 380,
      "metadata": {
        "colab": {
          "base_uri": "https://localhost:8080/"
        },
        "id": "lTmOHxeVmjt0",
        "outputId": "3c5f8542-929e-492c-aa80-ad387baebe4c"
      },
      "outputs": [
        {
          "output_type": "stream",
          "name": "stdout",
          "text": [
            "The number of unique items are 47\n"
          ]
        }
      ],
      "source": [
        "# Number of unique items in the data\n",
        "unique_items = len(item_dict)\n",
        "print('The number of unique items are {}'.format(unique_items))"
      ]
    },
    {
      "cell_type": "code",
      "execution_count": 381,
      "metadata": {
        "colab": {
          "base_uri": "https://localhost:8080/"
        },
        "id": "zCrKK8HplymX",
        "outputId": "53b6eb5d-09c6-4737-dd3c-0d7ceaace3b8"
      },
      "outputs": [
        {
          "output_type": "stream",
          "name": "stdout",
          "text": [
            "The total number of transactions are 20\n"
          ]
        }
      ],
      "source": [
        "# Total Transactions\n",
        "total_transactions = len(transaction_data)\n",
        "print('The total number of transactions are {}'.format(total_transactions))"
      ]
    },
    {
      "cell_type": "code",
      "execution_count": 382,
      "metadata": {
        "id": "IY9MYpy2lymZ"
      },
      "outputs": [],
      "source": [
        "# add times without function\n",
        "item_dict['banana'] = 5"
      ]
    },
    {
      "cell_type": "code",
      "execution_count": 383,
      "metadata": {
        "id": "WujYbU7Glyma"
      },
      "outputs": [],
      "source": [
        "# add_item function to add an item to cost dictionary\n",
        "def add_item(item_name,item_price):\n",
        "    item_dict[item_name] = item_price\n",
        "\n",
        "# example : add banana worth $5 to the dictionary\n",
        "add_item('banana',5)"
      ]
    },
    {
      "cell_type": "code",
      "execution_count": 384,
      "metadata": {
        "colab": {
          "base_uri": "https://localhost:8080/"
        },
        "id": "e5ROY5pElyma",
        "outputId": "e24e2681-e2ed-4a6e-e2b8-71f95dcc718d"
      },
      "outputs": [
        {
          "output_type": "stream",
          "name": "stdout",
          "text": [
            "{'almonds': 6, 'antioxidant juice': 9, 'avocado': 1, 'black tea': 4, 'burgers': 4, 'champagne': 3, 'chicken': 4, 'chocolate': 7, 'chutney': 7, 'cookies': 7, 'cooking oil': 7, 'cottage cheese': 9, 'eggs': 9, 'energy bar': 9, 'energy drink': 3, 'extra dark chocolate': 8, 'french fries': 7, 'fresh tuna': 9, 'frozen smoothie': 7, 'frozen vegetables': 2, 'green grapes': 8, 'green tea': 8, 'honey': 9, 'light cream': 5, 'low fat yogurt': 4, 'meatballs': 9, 'milk': 5, 'mineral water': 2, 'oil': 9, 'olive oil': 8, 'pet food': 3, 'protein bar': 1, 'salad': 7, 'salmon': 3, 'shallot': 6, 'shrimp': 2, 'soup': 2, 'spaghetti': 6, 'spinach': 7, 'tomato juice': 8, 'tomatoes': 5, 'turkey': 8, 'vegetables mix': 3, 'whole wheat flour': 5, 'whole wheat pasta': 5, 'whole wheat rice': 4, 'yams': 7}\n"
          ]
        }
      ],
      "source": [
        "# remove item without function\n",
        "del item_dict['banana']\n",
        "print(item_dict)"
      ]
    },
    {
      "cell_type": "code",
      "execution_count": 385,
      "metadata": {
        "colab": {
          "base_uri": "https://localhost:8080/"
        },
        "id": "GC2SBUZwlymb",
        "outputId": "8d99b161-4249-450e-8eb6-0efb16a72042"
      },
      "outputs": [
        {
          "output_type": "stream",
          "name": "stdout",
          "text": [
            "{'almonds': 6, 'antioxidant juice': 9, 'avocado': 1, 'black tea': 4, 'burgers': 4, 'champagne': 3, 'chicken': 4, 'chocolate': 7, 'chutney': 7, 'cookies': 7, 'cooking oil': 7, 'cottage cheese': 9, 'eggs': 9, 'energy bar': 9, 'energy drink': 3, 'extra dark chocolate': 8, 'french fries': 7, 'fresh tuna': 9, 'frozen smoothie': 7, 'frozen vegetables': 2, 'green grapes': 8, 'green tea': 8, 'honey': 9, 'light cream': 5, 'low fat yogurt': 4, 'meatballs': 9, 'milk': 5, 'mineral water': 2, 'oil': 9, 'olive oil': 8, 'pet food': 3, 'protein bar': 1, 'salad': 7, 'salmon': 3, 'shallot': 6, 'shrimp': 2, 'soup': 2, 'spaghetti': 6, 'spinach': 7, 'tomato juice': 8, 'tomatoes': 5, 'turkey': 8, 'vegetables mix': 3, 'whole wheat flour': 5, 'whole wheat pasta': 5, 'whole wheat rice': 4, 'yams': 7, 'banana': 10}\n",
            "\n",
            "**********************************************************\n",
            "\n",
            "Banana has been removed in this dictionary\n",
            "\n",
            "{'almonds': 6, 'antioxidant juice': 9, 'avocado': 1, 'black tea': 4, 'burgers': 4, 'champagne': 3, 'chicken': 4, 'chocolate': 7, 'chutney': 7, 'cookies': 7, 'cooking oil': 7, 'cottage cheese': 9, 'eggs': 9, 'energy bar': 9, 'energy drink': 3, 'extra dark chocolate': 8, 'french fries': 7, 'fresh tuna': 9, 'frozen smoothie': 7, 'frozen vegetables': 2, 'green grapes': 8, 'green tea': 8, 'honey': 9, 'light cream': 5, 'low fat yogurt': 4, 'meatballs': 9, 'milk': 5, 'mineral water': 2, 'oil': 9, 'olive oil': 8, 'pet food': 3, 'protein bar': 1, 'salad': 7, 'salmon': 3, 'shallot': 6, 'shrimp': 2, 'soup': 2, 'spaghetti': 6, 'spinach': 7, 'tomato juice': 8, 'tomatoes': 5, 'turkey': 8, 'vegetables mix': 3, 'whole wheat flour': 5, 'whole wheat pasta': 5, 'whole wheat rice': 4, 'yams': 7}\n"
          ]
        }
      ],
      "source": [
        "# function to remove item\n",
        "def remove_item(item_name):\n",
        "    del item_dict[item_name]\n",
        "\n",
        "# example - remove banana from the dictionary\n",
        "\n",
        "add_item('banana',10) # add banana worth $10\n",
        "print(item_dict)\n",
        "print()\n",
        "print('**********************************************************')\n",
        "print()\n",
        "print('Banana has been removed in this dictionary')\n",
        "print()\n",
        "remove_item('banana') # implementing the function to remove banana\n",
        "print(item_dict)"
      ]
    },
    {
      "cell_type": "markdown",
      "metadata": {
        "id": "p04vWElvlymc"
      },
      "source": [
        "## **Question 2**\n",
        "Q2. Once a customer has completed shopping, they need to be billed for the total amount of all the items. This can be done automatically by swiping each item’s barcode on a checkout system. Your second task is to build the software underlying the checkout system, which finds the total cost of all the items in a customer’s cart, including taxes:\n",
        "\n",
        "Write the code, to find the price of an item from the cost dictionary\n",
        "\n",
        "Find the price of salmon from the cost dictionary\n",
        "\n",
        "Write a code that helps the administrator find any particular transaction in the sequence\n",
        "\n",
        "Try finding the ninth transaction from the data\n",
        "\n",
        "How many items are present in the ninth transaction?\n",
        "\n",
        "Find the total cost of the ninth transaction from the array of transactions. Example: Input: [‘avocado’, ‘chutney’, ‘cookies’], Output: 15\n",
        "\n",
        "As per government guidelines, a mandatory 5% tax is applied to the total cost of a transaction. Find the final price of the second transaction after applicable taxes have been implemented.\n",
        "\n",
        "Create a function named find_total( ) to find the final price of any transaction after applicable taxes have been implemented."
      ]
    },
    {
      "cell_type": "markdown",
      "metadata": {
        "id": "xcPJbi1O2qzJ"
      },
      "source": [
        "## **Solutions**"
      ]
    },
    {
      "cell_type": "code",
      "execution_count": 386,
      "metadata": {
        "colab": {
          "base_uri": "https://localhost:8080/"
        },
        "id": "KLsrQqtnlymd",
        "outputId": "c23685f1-178c-4518-b1ce-741dac002c6a"
      },
      "outputs": [
        {
          "output_type": "stream",
          "name": "stdout",
          "text": [
            "The price of salmon is 3\n"
          ]
        }
      ],
      "source": [
        "# code to find price of an item\n",
        "\n",
        "def find_item_price(item_name): # functioni to find price of an item\n",
        "    price = item_dict.get(item_name)\n",
        "    print('The price of {} is {}'.format(item_name, price))\n",
        "\n",
        "# finding price of salmon\n",
        "find_item_price('salmon')"
      ]
    },
    {
      "cell_type": "code",
      "execution_count": 387,
      "metadata": {
        "colab": {
          "base_uri": "https://localhost:8080/"
        },
        "id": "asVEH0R2lyme",
        "outputId": "cd25aae0-f77c-4d6d-a47f-eb27f794fe23"
      },
      "outputs": [
        {
          "output_type": "execute_result",
          "data": {
            "text/plain": [
              "['french fries']"
            ]
          },
          "metadata": {},
          "execution_count": 387
        }
      ],
      "source": [
        "# finding a particular transaction in data\n",
        "\n",
        "def find_transaction(txn_number): # function to find a transaction\n",
        "  return transaction_data[txn_number]\n",
        "\n",
        "find_transaction(9)"
      ]
    },
    {
      "cell_type": "code",
      "execution_count": 388,
      "metadata": {
        "colab": {
          "base_uri": "https://localhost:8080/"
        },
        "id": "hmzosTEZpbHT",
        "outputId": "31489213-e96a-4c74-9c3a-a6b39a011c5a"
      },
      "outputs": [
        {
          "output_type": "stream",
          "name": "stdout",
          "text": [
            "The number of items in the 9th transaction are 1\n"
          ]
        }
      ],
      "source": [
        "# number of items in the ninth transaction\n",
        "number_of_items = len(find_transaction(9))\n",
        "print('The number of items in the 9th transaction are',number_of_items)"
      ]
    },
    {
      "cell_type": "code",
      "execution_count": 389,
      "metadata": {
        "colab": {
          "base_uri": "https://localhost:8080/"
        },
        "id": "VpfMc4qNpxa8",
        "outputId": "ddabe8e2-6ba7-45bb-8c93-51c810c4ba20"
      },
      "outputs": [
        {
          "output_type": "stream",
          "name": "stdout",
          "text": [
            "The total cost of the transaction is 7\n"
          ]
        }
      ],
      "source": [
        "#total cost of ninth transaction\n",
        "\n",
        "def total_cost(txn_number): # function to find total cost of a transaction\n",
        "  txn = find_transaction(txn_number)\n",
        "  total_cost = 0\n",
        "  for i in txn:\n",
        "    total_cost += item_dict.get(i)\n",
        "  return total_cost\n",
        "\n",
        "print('The total cost of the transaction is',total_cost(9))"
      ]
    },
    {
      "cell_type": "code",
      "execution_count": 390,
      "metadata": {
        "colab": {
          "base_uri": "https://localhost:8080/"
        },
        "id": "qZY90HQVrSM6",
        "outputId": "f2a48631-aee4-4bf5-bf88-314ecafa223a"
      },
      "outputs": [
        {
          "output_type": "stream",
          "name": "stdout",
          "text": [
            "The cost after tax for second transaction is 7.35\n"
          ]
        }
      ],
      "source": [
        "# cost of 2nd transaction after taxes\n",
        "# calculation without function\n",
        "cost_before_tax = total_cost(2) \n",
        "tax = 0.05 * cost_before_tax\n",
        "cost_after_tax = cost_before_tax + tax\n",
        "print('The cost after tax for second transaction is', cost_after_tax)\n"
      ]
    },
    {
      "cell_type": "code",
      "execution_count": 391,
      "metadata": {
        "colab": {
          "base_uri": "https://localhost:8080/"
        },
        "id": "fHy7vqEtthCb",
        "outputId": "91d01a77-8e60-489b-cadb-c675e68f263f"
      },
      "outputs": [
        {
          "output_type": "stream",
          "name": "stdout",
          "text": [
            "The cost after tax for second transaction is 7.35\n"
          ]
        }
      ],
      "source": [
        "# function for final price after taxes\n",
        "\n",
        "def find_total(txn_number):\n",
        "  cost_before_tax = total_cost(txn_number)\n",
        "  tax = 0.05 * cost_before_tax\n",
        "  cost_after_tax = cost_before_tax + tax\n",
        "  return cost_after_tax\n",
        "\n",
        "# example : final cost of second transaction - including taxes\n",
        "print('The cost after tax for second transaction is', find_total(2))"
      ]
    },
    {
      "cell_type": "markdown",
      "metadata": {
        "id": "7LopKsEB2etv"
      },
      "source": [
        "## **Question 3**\n",
        "Q3. There is always a flow of items in and out of stores, which need to be tracked so that the store can place an order in case an item is running out of stock. Your third task is to build an inventory management system that will count the total number of items purchased from the transaction data. This inventory management system will go through each of the transactions one by one and increment the value for an item if it is found in a transaction.\n",
        "\n",
        "What is the data structure that can be used to count the frequency of items purchased (from the transaction data)?\n",
        "\n",
        "Create a frequency counter to count the number of items\n",
        "\n",
        "A new transaction has just been made. This transaction includes “honey,” “pet food,” and “shrimp.” Update the frequency counter to reflect this new transaction.\n",
        "\n",
        "Create a function named update_counter( ) to automatically update the frequency counter in case any new transaction is made.\n",
        "\n"
      ]
    },
    {
      "cell_type": "markdown",
      "metadata": {
        "id": "RaSickEU2tzL"
      },
      "source": [
        "## **Solutions**"
      ]
    },
    {
      "cell_type": "markdown",
      "metadata": {
        "id": "6XPdJYDP2v19"
      },
      "source": [
        "A dictionary can be used to count and store the frequency of items purchased"
      ]
    },
    {
      "cell_type": "code",
      "execution_count": 392,
      "metadata": {
        "id": "XMJyJldH187e"
      },
      "outputs": [],
      "source": [
        "frequency_dict = {} # create empty dictionary\n",
        "for transaction in transaction_data: # loop to go through each item in a transaction, and add to frequency\n",
        "  for item in transaction: \n",
        "    if item in frequency_dict:\n",
        "     frequency_dict[item] = frequency_dict.get(item)+1\n",
        "    else:\n",
        "      frequency_dict[item] = 1"
      ]
    },
    {
      "cell_type": "code",
      "execution_count": 393,
      "metadata": {
        "colab": {
          "base_uri": "https://localhost:8080/"
        },
        "id": "XdbrDBTh4Zwn",
        "outputId": "8423f0c3-fa0a-41bf-9c06-db3e575294ed"
      },
      "outputs": [
        {
          "output_type": "stream",
          "name": "stdout",
          "text": [
            "{'shrimp': 2, 'almonds': 1, 'avocado': 2, 'vegetables mix': 1, 'green grapes': 1, 'whole wheat flour': 1, 'yams': 1, 'cottage cheese': 1, 'energy drink': 1, 'tomato juice': 1, 'low fat yogurt': 3, 'green tea': 3, 'honey': 3, 'salad': 1, 'mineral water': 6, 'salmon': 3, 'antioxidant juice': 1, 'frozen smoothie': 1, 'spinach': 1, 'olive oil': 1, 'burgers': 2, 'meatballs': 2, 'eggs': 5, 'chutney': 1, 'turkey': 4, 'milk': 2, 'energy bar': 1, 'whole wheat rice': 1, 'whole wheat pasta': 1, 'french fries': 3, 'soup': 1, 'light cream': 1, 'shallot': 1, 'frozen vegetables': 1, 'spaghetti': 3, 'pet food': 1, 'cookies': 2, 'cooking oil': 2, 'champagne': 1, 'chocolate': 1, 'chicken': 2, 'oil': 1, 'fresh tuna': 1, 'tomatoes': 1, 'black tea': 1, 'extra dark chocolate': 1, 'protein bar': 1}\n"
          ]
        }
      ],
      "source": [
        "print(frequency_dict)"
      ]
    },
    {
      "cell_type": "code",
      "execution_count": 394,
      "metadata": {
        "id": "Uy0m1vwc5bSm"
      },
      "outputs": [],
      "source": [
        "# new transaction made ['honey','pet food','shrimp']\n",
        "# update the frequency counter\n",
        "\n",
        "new_transaction = ['honey','pet food','shrimp']\n",
        "\n",
        "for item in new_transaction:\n",
        "  if item in frequency_dict:\n",
        "    frequency_dict[item] = frequency_dict.get(item)+1\n",
        "  else:\n",
        "    frequency_dict[item] = 1"
      ]
    },
    {
      "cell_type": "code",
      "execution_count": 395,
      "metadata": {
        "colab": {
          "base_uri": "https://localhost:8080/"
        },
        "id": "4TxGrlZZ7FP0",
        "outputId": "ad4251fd-b346-4483-9658-04bb1e598f96"
      },
      "outputs": [
        {
          "output_type": "stream",
          "name": "stdout",
          "text": [
            "{'shrimp': 3, 'almonds': 1, 'avocado': 2, 'vegetables mix': 1, 'green grapes': 1, 'whole wheat flour': 1, 'yams': 1, 'cottage cheese': 1, 'energy drink': 1, 'tomato juice': 1, 'low fat yogurt': 3, 'green tea': 3, 'honey': 4, 'salad': 1, 'mineral water': 6, 'salmon': 3, 'antioxidant juice': 1, 'frozen smoothie': 1, 'spinach': 1, 'olive oil': 1, 'burgers': 2, 'meatballs': 2, 'eggs': 5, 'chutney': 1, 'turkey': 4, 'milk': 2, 'energy bar': 1, 'whole wheat rice': 1, 'whole wheat pasta': 1, 'french fries': 3, 'soup': 1, 'light cream': 1, 'shallot': 1, 'frozen vegetables': 1, 'spaghetti': 3, 'pet food': 2, 'cookies': 2, 'cooking oil': 2, 'champagne': 1, 'chocolate': 1, 'chicken': 2, 'oil': 1, 'fresh tuna': 1, 'tomatoes': 1, 'black tea': 1, 'extra dark chocolate': 1, 'protein bar': 1}\n"
          ]
        }
      ],
      "source": [
        "print(frequency_dict)"
      ]
    },
    {
      "cell_type": "code",
      "execution_count": 396,
      "metadata": {
        "id": "Q17wex6H7PQ2"
      },
      "outputs": [],
      "source": [
        "# function to update the counter for a new transaction\n",
        "# input -> list containing items in a new transaction\n",
        "\n",
        "def update_counter(new_transaction):\n",
        "  for item in new_transaction:\n",
        "    if item in frequency_dict:\n",
        "      frequency_dict[item] = frequency_dict.get(item)+1\n",
        "    else:\n",
        "      frequency_dict[item] = 1"
      ]
    },
    {
      "cell_type": "markdown",
      "metadata": {
        "id": "q-uOryFt-kc-"
      },
      "source": [
        "## **Question 4**\n",
        "Q4. Walmart is running a discount week for Christmas! The sales manager has decided to keep a 20% discount on the top three selling items. Use the frequency counter that you created in Question 3 to solve this problem:\n",
        "\n",
        "What is the top-selling item?\n",
        "\n",
        "In real life, departmental stores have thousands of items and millions of transactions in their databases. In such situations, it becomes important to use an effective searching algorithm to navigate through the data. You need to sort the frequency counter dictionary by the value count(or the number of items). For example, if there are 3 apples, 5 bananas and 1 watermelon, the sorted list would be banana, apple, watermelon. So you need to sort the entire dictionary (with keys and values) based on the value count. Sort the frequency counter using the sorting algorithms provided in the table below. Additionally, for each of the sorting methods, leverage the time function in Python to see how many milliseconds it takes for an algorithm to sort items.\n",
        "\n",
        "Rank the sorting algorithms in order of the time they take to sort items."
      ]
    },
    {
      "cell_type": "markdown",
      "metadata": {
        "id": "usv8Cw5a-v2N"
      },
      "source": [
        "## **Solutions**"
      ]
    },
    {
      "cell_type": "code",
      "execution_count": 397,
      "metadata": {
        "colab": {
          "base_uri": "https://localhost:8080/"
        },
        "id": "-uLdH3dV-u_-",
        "outputId": "46b76562-9081-43d4-b63c-3bc6c74f45f0"
      },
      "outputs": [
        {
          "output_type": "stream",
          "name": "stdout",
          "text": [
            "The top selling item is mineral water\n"
          ]
        }
      ],
      "source": [
        "# top selling item\n",
        "\n",
        "top_selling_item = max(frequency_dict, key = frequency_dict.get)\n",
        "print('The top selling item is',top_selling_item)"
      ]
    },
    {
      "cell_type": "markdown",
      "source": [
        "**Merge Sort**"
      ],
      "metadata": {
        "id": "QBkK4iwfDN-b"
      }
    },
    {
      "cell_type": "code",
      "source": [
        "# merge sort code\n",
        "\n",
        "# function to merge two sorted lists\n",
        "# helper function\n",
        "def merge_two_sorted_list(list1,list2):\n",
        "  i = j = 0; sorted_list = []\n",
        "  while i < len(list1) and j < len(list2):\n",
        "    if list1[i] <= list2[j]:\n",
        "      sorted_list.append(list1[i])\n",
        "      i+=1\n",
        "    elif list1[i]>list2[j]:\n",
        "      sorted_list.append(list2[j])\n",
        "      j+=1\n",
        "  while i<len(list1):\n",
        "    sorted_list.append(list1[i])\n",
        "    i+=1\n",
        "  while j<len(list2):\n",
        "    sorted_list.append(list2[j])\n",
        "    j+=1\n",
        "  return sorted_list\n",
        "\n",
        "# function to merge sort a given single list\n",
        "\n",
        "def mergesort_list(list):\n",
        "  length = len(list)\n",
        "  if length <= 1:\n",
        "    return list\n",
        "  else:\n",
        "    midpoint = length//2\n",
        "    left = list[:midpoint]\n",
        "    right = list[midpoint:]\n",
        "\n",
        "    left = mergesort_list(left)\n",
        "    right = mergesort_list(right)\n",
        "\n",
        "    return merge_two_sorted_list(left,right)\n"
      ],
      "metadata": {
        "id": "3kQQOIIdWACm"
      },
      "execution_count": 398,
      "outputs": []
    },
    {
      "cell_type": "code",
      "source": [
        "#function to sort (using merge sort) and return sorted dictionary\n",
        "\n",
        "def final_sorted_items_mergesort(frequency_dict):\n",
        "  dictionary_final_sorted_items = {}\n",
        "  freq_dict_list = [i[1] for i in frequency_dict.items()]\n",
        "  values_list = mergesort_list(freq_dict_list)\n",
        "  final_sorted_items = []\n",
        "  for v in values_list[::-1]:\n",
        "    for key,value in frequency_dict.items():\n",
        "      if v == value:\n",
        "        if (key,v) not in final_sorted_items:\n",
        "          final_sorted_items.append((key,v))\n",
        "  for i in final_sorted_items:\n",
        "    dictionary_final_sorted_items[i[0]] = i[1]\n",
        "  return print(dictionary_final_sorted_items)\n"
      ],
      "metadata": {
        "id": "uZA8Qk7fzBBx"
      },
      "execution_count": 399,
      "outputs": []
    },
    {
      "cell_type": "code",
      "source": [
        "# checking time taken for merge sort\n",
        "\n",
        "import time\n",
        "start_time = time.time()\n",
        "final_sorted_items_mergesort(frequency_dict)\n",
        "time_taken_merge_sort = time.time() - start_time\n",
        "print(\" Time taken for merge sort is {} seconds\".format(time_taken_merge_sort))"
      ],
      "metadata": {
        "colab": {
          "base_uri": "https://localhost:8080/"
        },
        "id": "XH1XilVK0jvR",
        "outputId": "9427bdf9-80d8-491c-9ac7-d701de2eadc4"
      },
      "execution_count": 400,
      "outputs": [
        {
          "output_type": "stream",
          "name": "stdout",
          "text": [
            "{'mineral water': 6, 'eggs': 5, 'honey': 4, 'turkey': 4, 'shrimp': 3, 'low fat yogurt': 3, 'green tea': 3, 'salmon': 3, 'french fries': 3, 'spaghetti': 3, 'avocado': 2, 'burgers': 2, 'meatballs': 2, 'milk': 2, 'pet food': 2, 'cookies': 2, 'cooking oil': 2, 'chicken': 2, 'almonds': 1, 'vegetables mix': 1, 'green grapes': 1, 'whole wheat flour': 1, 'yams': 1, 'cottage cheese': 1, 'energy drink': 1, 'tomato juice': 1, 'salad': 1, 'antioxidant juice': 1, 'frozen smoothie': 1, 'spinach': 1, 'olive oil': 1, 'chutney': 1, 'energy bar': 1, 'whole wheat rice': 1, 'whole wheat pasta': 1, 'soup': 1, 'light cream': 1, 'shallot': 1, 'frozen vegetables': 1, 'champagne': 1, 'chocolate': 1, 'oil': 1, 'fresh tuna': 1, 'tomatoes': 1, 'black tea': 1, 'extra dark chocolate': 1, 'protein bar': 1}\n",
            " Time taken for merge sort is 0.010024309158325195 seconds\n"
          ]
        }
      ]
    },
    {
      "cell_type": "markdown",
      "source": [
        "**Inserion Sort**"
      ],
      "metadata": {
        "id": "wgO5WFeiEPZB"
      }
    },
    {
      "cell_type": "code",
      "source": [
        "## Insertion Sort function\n",
        "\n",
        "def insertion_sort(list):\n",
        "  for i in range(1, len(list)):\n",
        "      anchor = list[i]\n",
        "      j = i - 1\n",
        "      while j>=0 and anchor < list[j]:\n",
        "          list[j+1] = list[j]\n",
        "          j = j - 1\n",
        "      list[j+1] = anchor\n",
        "  return list"
      ],
      "metadata": {
        "id": "lnz3bX9N6dDu"
      },
      "execution_count": 401,
      "outputs": []
    },
    {
      "cell_type": "code",
      "source": [
        "#function to sort (using insertion sort) and return sorted dictionary\n",
        "\n",
        "def final_sorted_items_insertionsort(frequency_dict):\n",
        "  dictionary_final_sorted_items = {}\n",
        "  freq_dict_list = [i[1] for i in frequency_dict.items()]\n",
        "  values_list = insertion_sort(freq_dict_list)\n",
        "  final_sorted_items = []\n",
        "  for v in values_list[::-1]:\n",
        "    for key,value in frequency_dict.items():\n",
        "      if v == value:\n",
        "        if (key,v) not in final_sorted_items:\n",
        "          final_sorted_items.append((key,v))\n",
        "  \n",
        "  for i in final_sorted_items:\n",
        "    dictionary_final_sorted_items[i[0]] = i[1]\n",
        "  return print(dictionary_final_sorted_items)  "
      ],
      "metadata": {
        "id": "CHhAJeO26dMv"
      },
      "execution_count": 402,
      "outputs": []
    },
    {
      "cell_type": "code",
      "source": [
        "# checking time taken for insertion sort\n",
        "\n",
        "import time\n",
        "start_time = time.time()\n",
        "final_sorted_items_insertionsort(frequency_dict)\n",
        "time_taken_insertion_sort = time.time() - start_time\n",
        "print(\" Time taken for insertion sort is {} seconds\".format(time_taken_insertion_sort))"
      ],
      "metadata": {
        "colab": {
          "base_uri": "https://localhost:8080/"
        },
        "id": "SORKztml6dTJ",
        "outputId": "1a90a246-ea21-4c60-a9c9-4adc0cf6625a"
      },
      "execution_count": 403,
      "outputs": [
        {
          "output_type": "stream",
          "name": "stdout",
          "text": [
            "{'mineral water': 6, 'eggs': 5, 'honey': 4, 'turkey': 4, 'shrimp': 3, 'low fat yogurt': 3, 'green tea': 3, 'salmon': 3, 'french fries': 3, 'spaghetti': 3, 'avocado': 2, 'burgers': 2, 'meatballs': 2, 'milk': 2, 'pet food': 2, 'cookies': 2, 'cooking oil': 2, 'chicken': 2, 'almonds': 1, 'vegetables mix': 1, 'green grapes': 1, 'whole wheat flour': 1, 'yams': 1, 'cottage cheese': 1, 'energy drink': 1, 'tomato juice': 1, 'salad': 1, 'antioxidant juice': 1, 'frozen smoothie': 1, 'spinach': 1, 'olive oil': 1, 'chutney': 1, 'energy bar': 1, 'whole wheat rice': 1, 'whole wheat pasta': 1, 'soup': 1, 'light cream': 1, 'shallot': 1, 'frozen vegetables': 1, 'champagne': 1, 'chocolate': 1, 'oil': 1, 'fresh tuna': 1, 'tomatoes': 1, 'black tea': 1, 'extra dark chocolate': 1, 'protein bar': 1}\n",
            " Time taken for insertion sort is 0.0064809322357177734 seconds\n"
          ]
        }
      ]
    },
    {
      "cell_type": "markdown",
      "source": [
        "**Selection Sort**"
      ],
      "metadata": {
        "id": "33bnlzcPEsoN"
      }
    },
    {
      "cell_type": "code",
      "source": [
        "# selection sort function\n",
        "\n",
        "def selection_sort(list):\n",
        "    size = len(list)\n",
        "    for i in range(size-1):\n",
        "        min_index = i\n",
        "        for j in range(min_index+1,size):\n",
        "            if list[j] < list[min_index]:\n",
        "                min_index = j\n",
        "        if i != min_index:\n",
        "            list[i], list[min_index] = list[min_index], list[i]\n",
        "    return list"
      ],
      "metadata": {
        "id": "C9DF5cH6ES7G"
      },
      "execution_count": 404,
      "outputs": []
    },
    {
      "cell_type": "code",
      "source": [
        "#function to sort (using selection sort) and return sorted dictionary\n",
        "\n",
        "def final_sorted_items_selectionsort(frequency_dict):\n",
        "  dictionary_final_sorted_items = {}\n",
        "  freq_dict_list = [i[1] for i in frequency_dict.items()]\n",
        "  values_list = selection_sort(freq_dict_list)\n",
        "  final_sorted_items = []\n",
        "  for v in values_list[::-1]:\n",
        "    for key,value in frequency_dict.items():\n",
        "      if v == value:\n",
        "        if (key,v) not in final_sorted_items:\n",
        "          final_sorted_items.append((key,v))\n",
        "  \n",
        "  for i in final_sorted_items:\n",
        "    dictionary_final_sorted_items[i[0]] = i[1]\n",
        "  return print(dictionary_final_sorted_items) "
      ],
      "metadata": {
        "id": "ATLvcLWOE7Ty"
      },
      "execution_count": 405,
      "outputs": []
    },
    {
      "cell_type": "code",
      "source": [
        "# checking time taken for selection sort\n",
        "\n",
        "import time\n",
        "start_time = time.time()\n",
        "final_sorted_items_selectionsort(frequency_dict)\n",
        "time_taken_selection_sort = time.time() - start_time\n",
        "print(\" Time taken for selection sort is {} seconds\".format(time_taken_selection_sort))"
      ],
      "metadata": {
        "colab": {
          "base_uri": "https://localhost:8080/"
        },
        "id": "azbi0B1pFDoQ",
        "outputId": "9c19349c-ef36-458b-e923-45ac2d273b81"
      },
      "execution_count": 406,
      "outputs": [
        {
          "output_type": "stream",
          "name": "stdout",
          "text": [
            "{'mineral water': 6, 'eggs': 5, 'honey': 4, 'turkey': 4, 'shrimp': 3, 'low fat yogurt': 3, 'green tea': 3, 'salmon': 3, 'french fries': 3, 'spaghetti': 3, 'avocado': 2, 'burgers': 2, 'meatballs': 2, 'milk': 2, 'pet food': 2, 'cookies': 2, 'cooking oil': 2, 'chicken': 2, 'almonds': 1, 'vegetables mix': 1, 'green grapes': 1, 'whole wheat flour': 1, 'yams': 1, 'cottage cheese': 1, 'energy drink': 1, 'tomato juice': 1, 'salad': 1, 'antioxidant juice': 1, 'frozen smoothie': 1, 'spinach': 1, 'olive oil': 1, 'chutney': 1, 'energy bar': 1, 'whole wheat rice': 1, 'whole wheat pasta': 1, 'soup': 1, 'light cream': 1, 'shallot': 1, 'frozen vegetables': 1, 'champagne': 1, 'chocolate': 1, 'oil': 1, 'fresh tuna': 1, 'tomatoes': 1, 'black tea': 1, 'extra dark chocolate': 1, 'protein bar': 1}\n",
            " Time taken for selection sort is 0.003452301025390625 seconds\n"
          ]
        }
      ]
    },
    {
      "cell_type": "markdown",
      "source": [
        "**Ranking**"
      ],
      "metadata": {
        "id": "qmDOGCq3Yj9L"
      }
    },
    {
      "cell_type": "code",
      "source": [
        "# Ranking of sorting algorithms in order of time taken to sort\n",
        "\n",
        "print('Time taken for merge sort is', time_taken_merge_sort)\n",
        "print('Time taken for insertion sort is', time_taken_insertion_sort)\n",
        "print('Time taken for selection sort is', time_taken_selection_sort)\n",
        "print()\n",
        "print('***************************************')\n",
        "print()\n",
        "\n",
        "# get rank of algorithms as per time taken\n",
        "# This has been done to dynamically show the rankings, because, for a small dataset, the times may change with every execution\n",
        "time_taken = [time_taken_merge_sort,time_taken_insertion_sort,time_taken_selection_sort]\n",
        "time_taken_algo = ['Merge Sort','Insertion Sort','Selection Sort']\n",
        "val1 = min(time_taken)\n",
        "rank1 = time_taken_algo[time_taken.index(min(time_taken))]\n",
        "time_taken.remove(val1)\n",
        "time_taken_algo.remove(rank1)\n",
        "val2 = min(time_taken)\n",
        "rank2 = time_taken_algo[time_taken.index(val2)]\n",
        "time_taken.remove(val2)\n",
        "time_taken_algo.remove(rank2)\n",
        "rank3 = time_taken_algo[0]\n",
        "\n",
        "print('The rank of sorting algorithms is: ')\n",
        "print('1',rank1)\n",
        "print('2',rank2)\n",
        "print('3',rank3)\n",
        "print()\n",
        "print('***************************************')"
      ],
      "metadata": {
        "colab": {
          "base_uri": "https://localhost:8080/"
        },
        "id": "QrmCRf7nFIw6",
        "outputId": "ad8a9f2b-35c6-4787-8ece-4cd0a633e007"
      },
      "execution_count": 407,
      "outputs": [
        {
          "output_type": "stream",
          "name": "stdout",
          "text": [
            "Time taken for merge sort is 0.010024309158325195\n",
            "Time taken for insertion sort is 0.0064809322357177734\n",
            "Time taken for selection sort is 0.003452301025390625\n",
            "\n",
            "***************************************\n",
            "\n",
            "The rank of sorting algorithms is: \n",
            "1 Selection Sort\n",
            "2 Insertion Sort\n",
            "3 Merge Sort\n",
            "\n",
            "***************************************\n"
          ]
        }
      ]
    }
  ],
  "metadata": {
    "colab": {
      "name": "Data.ipynb",
      "provenance": [],
      "collapsed_sections": []
    },
    "kernelspec": {
      "display_name": "Python 3",
      "name": "python3"
    },
    "language_info": {
      "codemirror_mode": {
        "name": "ipython",
        "version": 3
      },
      "file_extension": ".py",
      "mimetype": "text/x-python",
      "name": "python",
      "nbconvert_exporter": "python",
      "pygments_lexer": "ipython3",
      "version": "3.10.0"
    }
  },
  "nbformat": 4,
  "nbformat_minor": 0
}