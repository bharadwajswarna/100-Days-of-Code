{
  "cells": [
    {
      "cell_type": "markdown",
      "metadata": {
        "id": "y871RZtRhCEH"
      },
      "source": [
        "# <font color='red'>Backpropagation</font>"
      ]
    },
    {
      "cell_type": "markdown",
      "metadata": {
        "id": "0huUQ0byiI0I"
      },
      "source": [
        "## <font color='red'>Loading data </font>"
      ]
    },
    {
      "cell_type": "code",
      "source": [
        "!wget --header=\"Host: doc-10-7s-docs.googleusercontent.com\"  --header=\"User-Agent: Mozilla/5.0 (Windows NT 10.0; Win64; x64) AppleWebKit/537.36 (KHTML, like Gecko) Chrome/97.0.4692.99 Safari/537.36\" --header=\"Accept: text/html,application/xhtml+xml,application/xml;q=0.9,image/avif,image/webp,image/apng,*/*;q=0.8,application/signed-exchange;v=b3;q=0.9\" --header=\"Accept-Language: en-GB,en-US;q=0.9,en;q=0.8\" --header=\"Cookie: AUTH_is9ur1fb0fgla014lp1vb6hr4mnk5tfv_nonce=va5o77tu5oa08\" --header=\"Connection: keep-alive\" \"https://doc-10-7s-docs.googleusercontent.com/docs/securesc/orrikddpunf406u5t8c4tq7sd6ut3c25/6lu048su07o4i9s9ketfivrt2hv43o6l/1645613550000/00484516897554883881/07674515660900828918/1xJ7GI9gcVJ5Ctrx6DS6eZGov32eidZiM?e=download&ax=ACxEAsZ4BaJK_f2GBsBCIGg7bs2sPnB6npMz5VbKnPl7mggP6vAc32D5tLvSTYNTJy-lJKfQKrBHxd4rvZEkNejHq8wlemCIS6W4AUCom4HzPkKCRRJv7R_llw0EzRQqa8XdOYUE37ZcuSaaw0zab6hO-d8mxtwp-2TvpnyRTna3Tuv-qXWrAEcqfXnn_kmaLlHRgFSZeC34__81aCMrHkRdZx933Tlg1cvm8Rk1JB2J2BRJs8mG-E5vRcRJY8WSilZ4eMdtJHYOOLnnAPSRtuYXEuOqhAwkIieTq58qBMOwHfBEAd_Fu2P0JDPZf4cQ2XpfKqfeiAJBeoI5qaJzRazgzLgjDOikCROSfLSnHWixVu4-mzxzflTTz6IOMZmzPRrW9QeJe00qQLp4qxjOMWWyKRa4E4uWI_WPPCiLyQ2h0lCucPnYRu1Gj0LWXRq-uhJcqFMBAC7St7eVhRSwLiOW4QkVjF9w9yyQVZCF5tt7c1vGWiKmAfStn2dXglpnpsFugdIlIYBTlli6jTCvJWkSivq9frSwE6In32dDpf7hAX_pV-SnkzP6ABYBnftxOD4C3F9XIDSXzwEvbtRpZY-KWrKHlUoCO2AwHUGndccA2UymRLm2XGvUn5650SBFxSTqqrXEsJc2Y9kfxPxBD8cyH7VQ6Ck3hi8f-KVpo5CS&authuser=0&nonce=va5o77tu5oa08&user=07674515660900828918&hash=63invcq7oud19qm3gtgrag2fsgubppmr\" -c -O 'data.pkl'"
      ],
      "metadata": {
        "colab": {
          "base_uri": "https://localhost:8080/"
        },
        "id": "rTgaH4n2Np_O",
        "outputId": "d059a227-0694-4d29-f5a7-185d6757b979"
      },
      "execution_count": null,
      "outputs": [
        {
          "output_type": "stream",
          "name": "stdout",
          "text": [
            "--2022-02-23 10:53:43--  https://doc-10-7s-docs.googleusercontent.com/docs/securesc/orrikddpunf406u5t8c4tq7sd6ut3c25/6lu048su07o4i9s9ketfivrt2hv43o6l/1645613550000/00484516897554883881/07674515660900828918/1xJ7GI9gcVJ5Ctrx6DS6eZGov32eidZiM?e=download&ax=ACxEAsZ4BaJK_f2GBsBCIGg7bs2sPnB6npMz5VbKnPl7mggP6vAc32D5tLvSTYNTJy-lJKfQKrBHxd4rvZEkNejHq8wlemCIS6W4AUCom4HzPkKCRRJv7R_llw0EzRQqa8XdOYUE37ZcuSaaw0zab6hO-d8mxtwp-2TvpnyRTna3Tuv-qXWrAEcqfXnn_kmaLlHRgFSZeC34__81aCMrHkRdZx933Tlg1cvm8Rk1JB2J2BRJs8mG-E5vRcRJY8WSilZ4eMdtJHYOOLnnAPSRtuYXEuOqhAwkIieTq58qBMOwHfBEAd_Fu2P0JDPZf4cQ2XpfKqfeiAJBeoI5qaJzRazgzLgjDOikCROSfLSnHWixVu4-mzxzflTTz6IOMZmzPRrW9QeJe00qQLp4qxjOMWWyKRa4E4uWI_WPPCiLyQ2h0lCucPnYRu1Gj0LWXRq-uhJcqFMBAC7St7eVhRSwLiOW4QkVjF9w9yyQVZCF5tt7c1vGWiKmAfStn2dXglpnpsFugdIlIYBTlli6jTCvJWkSivq9frSwE6In32dDpf7hAX_pV-SnkzP6ABYBnftxOD4C3F9XIDSXzwEvbtRpZY-KWrKHlUoCO2AwHUGndccA2UymRLm2XGvUn5650SBFxSTqqrXEsJc2Y9kfxPxBD8cyH7VQ6Ck3hi8f-KVpo5CS&authuser=0&nonce=va5o77tu5oa08&user=07674515660900828918&hash=63invcq7oud19qm3gtgrag2fsgubppmr\n",
            "Resolving doc-10-7s-docs.googleusercontent.com (doc-10-7s-docs.googleusercontent.com)... 74.125.195.132, 2607:f8b0:400e:c09::84\n",
            "Connecting to doc-10-7s-docs.googleusercontent.com (doc-10-7s-docs.googleusercontent.com)|74.125.195.132|:443... connected.\n",
            "HTTP request sent, awaiting response... 200 OK\n",
            "Length: 24449 (24K) [application/octet-stream]\n",
            "Saving to: ‘data.pkl’\n",
            "\n",
            "data.pkl            100%[===================>]  23.88K  --.-KB/s    in 0s      \n",
            "\n",
            "2022-02-23 10:53:44 (70.8 MB/s) - ‘data.pkl’ saved [24449/24449]\n",
            "\n"
          ]
        }
      ]
    },
    {
      "cell_type": "code",
      "execution_count": null,
      "metadata": {
        "id": "1hSje5CBgcUb",
        "colab": {
          "base_uri": "https://localhost:8080/"
        },
        "outputId": "81e5cd76-cf0b-405a-84c7-b350ad0b50e5"
      },
      "outputs": [
        {
          "output_type": "stream",
          "name": "stdout",
          "text": [
            "(506, 6)\n",
            "(506, 5) (506,)\n"
          ]
        }
      ],
      "source": [
        "import pickle\n",
        "import numpy as np\n",
        "from tqdm import tqdm\n",
        "import matplotlib.pyplot as plt\n",
        "\n",
        "with open('data.pkl', 'rb') as f:\n",
        "    data = pickle.load(f)\n",
        "print(data.shape)\n",
        "X = data[:, :5]\n",
        "y = data[:, -1]\n",
        "print(X.shape, y.shape)"
      ]
    },
    {
      "cell_type": "markdown",
      "metadata": {
        "id": "5JL-0soQistC"
      },
      "source": [
        "# <font color='red'>Computational graph</font>"
      ]
    },
    {
      "cell_type": "markdown",
      "metadata": {
        "id": "nREnTTJ3i0Vd"
      },
      "source": [
        "<img src='https://i.imgur.com/seSGbNS.png'>"
      ]
    },
    {
      "cell_type": "markdown",
      "metadata": {
        "id": "RwEcPWLffTKI"
      },
      "source": [
        "## <font color='blue'>Forward propagation </font>"
      ]
    },
    {
      "cell_type": "markdown",
      "metadata": {
        "id": "FCZrm-gkfTKI"
      },
      "source": [
        "\n",
        "*  <b>\n",
        "    Forward propagation</b>(Write your code in<font color='blue'> def forward_propagation()</b></font>)<br><br>\n",
        "    For easy debugging, we will break the computational graph into 3 parts.\n",
        "\n",
        "    <font color='green'><b>Part 1</b></font></b>\n",
        "    <img src='https://i.imgur.com/0xUaxy6.png'><br><br>\n",
        "    <font color='green'><b>Part 2</b></font></b><br>\n",
        "    <img src='https://i.imgur.com/J29pAJL.png'><br><br>\n",
        "    <font color='green'><b>Part 3</b></font></b>\n",
        "    <img src='https://i.imgur.com/vMyCsd9.png'>"
      ]
    },
    {
      "cell_type": "code",
      "execution_count": null,
      "metadata": {
        "id": "ADCovl2FfTKJ"
      },
      "outputs": [],
      "source": [
        "def sigmoid(z):\n",
        "\n",
        "    s = 1/(1+np.exp(-z))\n",
        "    '''In this function, we will compute the sigmoid(z)'''\n",
        "    # we can use this function in forward and backward propagation\n",
        "    # write the code to compute the sigmoid value of z and return that value \n",
        "    return s"
      ]
    },
    {
      "cell_type": "code",
      "execution_count": null,
      "metadata": {
        "id": "dLJ-OYwefTKJ",
        "colab": {
          "base_uri": "https://localhost:8080/"
        },
        "outputId": "b1ba7469-e051-47a5-dab0-5e2e81022231"
      },
      "outputs": [
        {
          "output_type": "execute_result",
          "data": {
            "text/plain": [
              "True"
            ]
          },
          "metadata": {},
          "execution_count": 7
        }
      ],
      "source": [
        "def grader_sigmoid(z):\n",
        "  #if you have written the code correctly then the grader function will output true\n",
        "  val=sigmoid(z)\n",
        "  assert(val==0.8807970779778823)\n",
        "  return True\n",
        "grader_sigmoid(2)"
      ]
    },
    {
      "cell_type": "code",
      "execution_count": null,
      "metadata": {
        "id": "KD3piNkifTKJ"
      },
      "outputs": [],
      "source": [
        "def forward_propagation(x, y, w):\n",
        "  \n",
        "        '''In this function, we will compute the forward propagation '''\n",
        "        # X: input data point, note that in this assignment you are having 5-d data points\n",
        "        # y: output varible\n",
        "        # W: weight array, its of length 9, W[0] corresponds to w1 in graph, W[1] corresponds to w2 in graph,..., W[8] corresponds to w9 in graph.  \n",
        "        # you have to return the following variables\n",
        "        # exp= part1 (compute the forward propagation until exp and then store the values in exp)\n",
        "        # tanh =part2(compute the forward propagation until tanh and then store the values in tanh)\n",
        "        # sig = part3(compute the forward propagation until sigmoid and then store the values in sig)\n",
        "        # we are computing one of the values for better understanding\n",
        "        \n",
        "        val_1= (w[0]*x[0]+w[1]*x[1]) * (w[0]*x[0]+w[1]*x[1]) + w[5]\n",
        "        part_1 = np.exp(val_1)\n",
        "\n",
        "        val_2 = part_1 + w[6]\n",
        "        part_2 = np.tanh(val_2)\n",
        "\n",
        "        val_3_1 = w[3]*x[3] + w[4]*x[4]\n",
        "        val_3_2 = np.sin(w[2]*x[2])\n",
        "        part_3 = sigmoid(val_3_1*val_3_2 + w[7])\n",
        "                \n",
        "        # after computing part1,part2 and part3 compute the value of y' from the main Computational graph using required equations\n",
        "        # write code to compute the value of L=(y-y')^2 and store it in variable loss\n",
        "        # compute derivative of L  w.r.to y' and store it in dy_pred \n",
        "        # Create a dictionary to store all the intermediate values i.e. dy_pred ,loss,exp,tanh,sigmoid\n",
        "        # we will be using the dictionary to find values in backpropagation, you can add other keys in dictionary as well\n",
        "        y1 = part_3*w[8] + part_2\n",
        "\n",
        "        forward_dict={}\n",
        "        forward_dict['y1'] = y1\n",
        "        forward_dict['exp']= part_1\n",
        "        forward_dict['sigmoid'] = part_3\n",
        "        forward_dict['tanh'] = part_2\n",
        "        forward_dict['loss'] = (y - y1)**2\n",
        "        forward_dict['dy_pred'] = -2*(y-y1)\n",
        "        \n",
        "        return forward_dict"
      ]
    },
    {
      "cell_type": "code",
      "execution_count": null,
      "metadata": {
        "id": "vP0iV7f4fTKK",
        "colab": {
          "base_uri": "https://localhost:8080/"
        },
        "outputId": "fef57e1c-c1bc-4735-f56a-fdaf1430eda5"
      },
      "outputs": [
        {
          "output_type": "execute_result",
          "data": {
            "text/plain": [
              "True"
            ]
          },
          "metadata": {},
          "execution_count": 9
        }
      ],
      "source": [
        "def grader_forwardprop(data):\n",
        "    dl = (data['dy_pred']==-1.9285278284819143)\n",
        "    loss=(data['loss']==0.9298048963072919)\n",
        "    part1=(data['exp']==1.1272967040973583)\n",
        "    part2=(data['tanh']==0.8417934192562146)\n",
        "    part3=(data['sigmoid']==0.5279179387419721)\n",
        "    assert(dl and loss and part1 and part2 and part3)\n",
        "    return True\n",
        "w=np.ones(9)*0.1\n",
        "d1=forward_propagation(X[0],y[0],w)\n",
        "grader_forwardprop(d1)"
      ]
    },
    {
      "cell_type": "markdown",
      "metadata": {
        "id": "2zcQmvkvfTKL"
      },
      "source": [
        "# <font color='red'> </font>"
      ]
    },
    {
      "cell_type": "markdown",
      "metadata": {
        "id": "4YVYD18xfTKL"
      },
      "source": [
        "## <font color='blue'>Backward propagation</font>"
      ]
    },
    {
      "cell_type": "code",
      "execution_count": null,
      "metadata": {
        "id": "Ld1PMQtffTKL"
      },
      "outputs": [],
      "source": [
        "def backward_propagation(x,y,w,forward_dict):\n",
        "    '''In this function, we will compute the backward propagation '''\n",
        "    # forward_dict: the outputs of the forward_propagation() function\n",
        "    # write code to compute the gradients of each weight [w1,w2,w3,...,w9]\n",
        "    # Hint: you can use dict type to store the required variables \n",
        "    # dw1 = # in dw1 compute derivative of L w.r.to w1\n",
        "    # dw2 = # in dw2 compute derivative of L w.r.to w2\n",
        "    # dw3 = # in dw3 compute derivative of L w.r.to w3\n",
        "    # dw4 = # in dw4 compute derivative of L w.r.to w4\n",
        "    # dw5 = # in dw5 compute derivative of L w.r.to w5\n",
        "    # dw6 = # in dw6 compute derivative of L w.r.to w6\n",
        "    # dw7 = # in dw7 compute derivative of L w.r.to w7\n",
        "    # dw8 = # in dw8 compute derivative of L w.r.to w8\n",
        "    # dw9 = # in dw9 compute derivative of L w.r.to w9\n",
        "    \n",
        "    \n",
        "    backward_dict={}\n",
        "    \n",
        "    \n",
        "    backward_dict['dw9'] = -2*(y-forward_dict['y1'])*forward_dict['sigmoid']  \n",
        "    backward_dict['dw8'] = -2*(y-forward_dict['y1'])*w[8]*(forward_dict['sigmoid']*(1-forward_dict['sigmoid']))*1\n",
        "    backward_dict['dw7'] = -2*(y-forward_dict['y1'])*(1-(forward_dict['tanh'])**2)*1\n",
        "    backward_dict['dw6'] = backward_dict['dw7']*1*forward_dict['exp']*1\n",
        "    backward_dict['dw5'] = backward_dict['dw8']*1*np.sin(w[2]*x[2])*1*x[4]\n",
        "    backward_dict['dw4'] = backward_dict['dw8']*1*np.sin(w[2]*x[2])*1*x[3]\n",
        "    backward_dict['dw3'] = backward_dict['dw8']*1*(w[3]*x[3] + w[4]*x[4])*np.cos(w[2]*x[2])*x[2]\n",
        "    backward_dict['dw2'] = backward_dict['dw6']*1*(2*(x[0]*w[0]+x[1]*w[1]))*x[1]\n",
        "    backward_dict['dw1'] = backward_dict['dw6']*1*(2*(x[0]*w[0]+x[1]*w[1]))*x[0]\n",
        "    #store the variables dw1,dw2 etc. in a dict as backward_dict['dw1']= dw1,backward_dict['dw2']= dw2...\n",
        "    \n",
        "    \n",
        "    return backward_dict"
      ]
    },
    {
      "cell_type": "code",
      "execution_count": null,
      "metadata": {
        "id": "0ipQbNXOfTKM",
        "colab": {
          "base_uri": "https://localhost:8080/"
        },
        "outputId": "14e6a6f2-a837-4a78-df4c-d7338460a858"
      },
      "outputs": [
        {
          "output_type": "execute_result",
          "data": {
            "text/plain": [
              "True"
            ]
          },
          "metadata": {},
          "execution_count": 104
        }
      ],
      "source": [
        "# function to check if the above code is correct\n",
        "\n",
        "def grader_backprop(data):\n",
        "    dw1=(np.round(data['dw1'],6)==-0.229733)\n",
        "    dw2=(np.round(data['dw2'],6)==-0.021408)\n",
        "    dw3=(np.round(data['dw3'],6)==-0.005625)\n",
        "    dw4=(np.round(data['dw4'],6)==-0.004658)\n",
        "    dw5=(np.round(data['dw5'],6)==-0.001008)\n",
        "    dw6=(np.round(data['dw6'],6)==-0.633475)\n",
        "    dw7=(np.round(data['dw7'],6)==-0.561942)\n",
        "    dw8=(np.round(data['dw8'],6)==-0.048063)\n",
        "    dw9=(np.round(data['dw9'],6)==-1.018104)\n",
        "    assert(dw1 and dw2 and dw3 and dw4 and dw5 and dw6 and dw7 and dw8 and dw9)\n",
        "    return True \n",
        "w=np.ones(9)*0.1\n",
        "forward_dict=forward_propagation(X[0],y[0],w)\n",
        "backward_dict=backward_propagation(X[0],y[0],w,forward_dict)\n",
        "grader_backprop(backward_dict)"
      ]
    }
  ],
  "metadata": {
    "colab": {
      "collapsed_sections": [],
      "name": "Copy of Backpropagation_Assignment.ipynb",
      "provenance": []
    },
    "kernelspec": {
      "display_name": "Python 3",
      "language": "python",
      "name": "python3"
    },
    "language_info": {
      "codemirror_mode": {
        "name": "ipython",
        "version": 3
      },
      "file_extension": ".py",
      "mimetype": "text/x-python",
      "name": "python",
      "nbconvert_exporter": "python",
      "pygments_lexer": "ipython3",
      "version": "3.10.0"
    }
  },
  "nbformat": 4,
  "nbformat_minor": 0
}
